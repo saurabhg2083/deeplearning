{
 "cells": [
  {
   "cell_type": "markdown",
   "id": "1c855627",
   "metadata": {},
   "source": [
    "# Practical Assignment DL 00 - Solutions"
   ]
  },
  {
   "cell_type": "markdown",
   "id": "cfcfd75d",
   "metadata": {},
   "source": [
    "##### Objective: - Predict Next Sequence\n",
    "To start with deep learning, the very basic project that you can build is to predict the next digit in a sequence. \n",
    "##### Dataset:\n",
    "Create a sequence like a list of odd numbers and then build a model and train it to predict the next digit in the sequence. \n",
    "##### Task:\n",
    "A simple neural network with 2 layers would be sufficient to build the model.\n",
    "##### Assignment Submission:\n",
    "Only submit the Google Colab/Github link.(Make the Link Public)."
   ]
  },
  {
   "cell_type": "code",
   "execution_count": 56,
   "id": "99f46bca",
   "metadata": {},
   "outputs": [],
   "source": [
    "import tensorflow as tf\n",
    "from tensorflow import keras\n",
    "import tensorflow as tf\n",
    "from tensorflow.keras import layers\n",
    "import numpy as np\n",
    "import matplotlib.pyplot as plt"
   ]
  },
  {
   "cell_type": "code",
   "execution_count": 182,
   "id": "982314a1",
   "metadata": {},
   "outputs": [],
   "source": [
    "X = [1, 3, 5, 7, 9, 11, 13, 15, 17, 19]\n",
    "y = [3, 5, 7, 9, 11, 13, 15, 17, 19, 21]\n",
    "test_number = 5\n",
    "\n",
    "X = [1, 2, 3, 4, 5, 6, 7, 8, 9]\n",
    "y = [1, 2, 3, 4, 5, 6, 7, 8, 9]"
   ]
  },
  {
   "cell_type": "code",
   "execution_count": 185,
   "id": "6ff922d6",
   "metadata": {},
   "outputs": [
    {
     "data": {
      "text/plain": [
       "<keras.callbacks.History at 0x1e2fe72baf0>"
      ]
     },
     "execution_count": 185,
     "metadata": {},
     "output_type": "execute_result"
    }
   ],
   "source": [
    "# Set random seed\n",
    "tf.random.set_seed(42)\n",
    "\n",
    "model = keras.Sequential([\n",
    "    \n",
    "    keras.layers.Input(shape=(1,)),\n",
    "\n",
    "    keras.layers.Dense(80, activation='relu'),\n",
    "    #keras.layers.Dense(1, activation='relu')\n",
    "    keras.layers.Dense(1, activation='softmax')\n",
    "])\n",
    "\n",
    "\n",
    "model.compile(optimizer=tf.keras.optimizers.Adam(learning_rate=0.001),\n",
    "              loss='mse',\n",
    "              metrics=['mae'])\n",
    "\n",
    "model.fit(X, y, epochs=100, verbose=0) \n",
    "\n"
   ]
  },
  {
   "cell_type": "code",
   "execution_count": 186,
   "id": "2548c0ac",
   "metadata": {},
   "outputs": [
    {
     "name": "stdout",
     "output_type": "stream",
     "text": [
      "1/1 [==============================] - 0s 59ms/step\n",
      "[[1.]]\n"
     ]
    }
   ],
   "source": [
    "\n",
    "predictions = model.predict([19])\n",
    "print(predictions)"
   ]
  },
  {
   "cell_type": "code",
   "execution_count": 187,
   "id": "ef20d62a",
   "metadata": {},
   "outputs": [
    {
     "name": "stdout",
     "output_type": "stream",
     "text": [
      "[1, 3, 5, 7, 9, 11, 13, 15, 17, 19, 21, 23, 25, 27, 29, 31, 33, 35, 37, 39, 41, 43, 45, 47, 49]\n"
     ]
    }
   ],
   "source": [
    "data = [1, 3, 5, 7, 9, 11, 13, 15, 17, 19, 21, 23, 25, 27, 29, 31, 33, 35, 37, 39, 41, 43, 45, 47, 49]\n",
    "print(data)"
   ]
  },
  {
   "cell_type": "code",
   "execution_count": 188,
   "id": "772ef657",
   "metadata": {},
   "outputs": [],
   "source": [
    "def splitSequence(seq, n_steps):\n",
    "    X = []\n",
    "    y = []\n",
    "    \n",
    "    for i in range(len(seq)):\n",
    "        lastIndex = i + n_steps\n",
    "        if lastIndex > len(seq) - 1:\n",
    "            break\n",
    "        seq_X, seq_y = seq[i:lastIndex], seq[lastIndex]\n",
    "        X.append(seq_X)\n",
    "        y.append(seq_y)\n",
    "        pass\n",
    "        \n",
    "    X = np.array(X)\n",
    "    y = np.array(y)\n",
    "    \n",
    "    return X,y\n",
    "\n",
    "    pass"
   ]
  },
  {
   "cell_type": "code",
   "execution_count": 189,
   "id": "edfaac23",
   "metadata": {},
   "outputs": [],
   "source": [
    "n_steps = 5\n",
    "X, y = splitSequence(data, n_steps = n_steps)"
   ]
  },
  {
   "cell_type": "code",
   "execution_count": 190,
   "id": "9d43b470",
   "metadata": {},
   "outputs": [
    {
     "name": "stdout",
     "output_type": "stream",
     "text": [
      "[1 3 5 7 9] 11\n",
      "[ 3  5  7  9 11] 13\n",
      "[ 5  7  9 11 13] 15\n",
      "[ 7  9 11 13 15] 17\n",
      "[ 9 11 13 15 17] 19\n",
      "[11 13 15 17 19] 21\n",
      "[13 15 17 19 21] 23\n",
      "[15 17 19 21 23] 25\n",
      "[17 19 21 23 25] 27\n",
      "[19 21 23 25 27] 29\n",
      "[21 23 25 27 29] 31\n",
      "[23 25 27 29 31] 33\n",
      "[25 27 29 31 33] 35\n",
      "[27 29 31 33 35] 37\n",
      "[29 31 33 35 37] 39\n",
      "[31 33 35 37 39] 41\n",
      "[33 35 37 39 41] 43\n",
      "[35 37 39 41 43] 45\n",
      "[37 39 41 43 45] 47\n",
      "[39 41 43 45 47] 49\n"
     ]
    }
   ],
   "source": [
    "for i in range(len(X)):\n",
    "    print(X[i], y[i])"
   ]
  },
  {
   "cell_type": "code",
   "execution_count": 191,
   "id": "039a01e9",
   "metadata": {},
   "outputs": [
    {
     "name": "stdout",
     "output_type": "stream",
     "text": [
      "[[[ 1]\n",
      "  [ 3]\n",
      "  [ 5]\n",
      "  [ 7]\n",
      "  [ 9]]\n",
      "\n",
      " [[ 3]\n",
      "  [ 5]\n",
      "  [ 7]\n",
      "  [ 9]\n",
      "  [11]]]\n"
     ]
    }
   ],
   "source": [
    "# reshape from [samples, timesteps] into [samples, timesteps, features]n_features = 1\n",
    "n_features = 1\n",
    "X = X.reshape((X.shape[0], X.shape[1], n_features))\n",
    "print(X[:2])"
   ]
  },
  {
   "cell_type": "code",
   "execution_count": 192,
   "id": "ffa95067",
   "metadata": {},
   "outputs": [
    {
     "data": {
      "text/plain": [
       "array([11, 13, 15, 17, 19, 21, 23, 25, 27, 29, 31, 33, 35, 37, 39, 41, 43,\n",
       "       45, 47, 49])"
      ]
     },
     "execution_count": 192,
     "metadata": {},
     "output_type": "execute_result"
    }
   ],
   "source": [
    "y"
   ]
  },
  {
   "cell_type": "code",
   "execution_count": 194,
   "id": "df1cbf2b",
   "metadata": {},
   "outputs": [
    {
     "data": {
      "text/plain": [
       "<keras.callbacks.History at 0x1e2ff931a90>"
      ]
     },
     "execution_count": 194,
     "metadata": {},
     "output_type": "execute_result"
    }
   ],
   "source": [
    "# Set random seed\n",
    "tf.random.set_seed(42)\n",
    "\n",
    "model = keras.Sequential([    \n",
    "    keras.layers.Input(shape=(n_steps,n_features)),   \n",
    "    keras.layers.Dense(10, activation='relu'),\n",
    "    keras.layers.Dense(80, activation='relu'),\n",
    "    keras.layers.Dense(1, activation='relu')\n",
    "])\n",
    "\n",
    "\n",
    "model.compile(optimizer=tf.keras.optimizers.Adam(learning_rate=0.001),\n",
    "              loss='mse',\n",
    "              metrics=['mae'])\n",
    "\n",
    "model.fit(X, y, epochs=100, verbose=0) "
   ]
  },
  {
   "cell_type": "code",
   "execution_count": 195,
   "id": "ebe72474",
   "metadata": {},
   "outputs": [
    {
     "name": "stdout",
     "output_type": "stream",
     "text": [
      "1/1 [==============================] - 0s 91ms/step\n",
      "[[[36.40956 ]\n",
      "  [38.340828]\n",
      "  [40.272095]\n",
      "  [42.20336 ]\n",
      "  [44.13463 ]]]\n"
     ]
    }
   ],
   "source": [
    "test_data = np.array([37,39,41,43,45])\n",
    "test_data = test_data.reshape((1, n_steps, n_features))\n",
    "predictNextNumber = model.predict(test_data, verbose=1)\n",
    "print(predictNextNumber)"
   ]
  },
  {
   "cell_type": "code",
   "execution_count": 196,
   "id": "0beb6768",
   "metadata": {},
   "outputs": [],
   "source": [
    "model1 = tf.keras.Sequential()\n",
    "#keras.layers.Input(shape=(1,)),\n",
    "model1.add(layers.LSTM(50, activation='relu', input_shape=(n_steps,n_features)))\n",
    "model1.add(layers.Dense(1))\n"
   ]
  },
  {
   "cell_type": "code",
   "execution_count": 197,
   "id": "169848ca",
   "metadata": {},
   "outputs": [
    {
     "data": {
      "text/plain": [
       "<keras.callbacks.History at 0x1e2ffabd040>"
      ]
     },
     "execution_count": 197,
     "metadata": {},
     "output_type": "execute_result"
    }
   ],
   "source": [
    "model1.compile(optimizer=tf.keras.optimizers.Adam(0.01), loss=tf.keras.losses.MeanSquaredError(), metrics=['accuracy'])\n",
    "model1.fit(X, y, epochs=200, verbose=0)"
   ]
  },
  {
   "cell_type": "code",
   "execution_count": 198,
   "id": "7c82a73d",
   "metadata": {},
   "outputs": [
    {
     "name": "stdout",
     "output_type": "stream",
     "text": [
      "1/1 [==============================] - 0s 159ms/step\n",
      "[[47.10548]]\n"
     ]
    }
   ],
   "source": [
    "test_data = np.array([37,39,41,43,45])\n",
    "test_data = test_data.reshape((1, n_steps, n_features))\n",
    "predictNextNumber = model1.predict(test_data, verbose=1)\n",
    "print(predictNextNumber)\n"
   ]
  },
  {
   "cell_type": "code",
   "execution_count": null,
   "id": "144d77b9",
   "metadata": {},
   "outputs": [],
   "source": []
  },
  {
   "cell_type": "code",
   "execution_count": null,
   "id": "4df6b1c3",
   "metadata": {},
   "outputs": [],
   "source": []
  }
 ],
 "metadata": {
  "kernelspec": {
   "display_name": "Python 3 (ipykernel)",
   "language": "python",
   "name": "python3"
  },
  "language_info": {
   "codemirror_mode": {
    "name": "ipython",
    "version": 3
   },
   "file_extension": ".py",
   "mimetype": "text/x-python",
   "name": "python",
   "nbconvert_exporter": "python",
   "pygments_lexer": "ipython3",
   "version": "3.9.7"
  }
 },
 "nbformat": 4,
 "nbformat_minor": 5
}
